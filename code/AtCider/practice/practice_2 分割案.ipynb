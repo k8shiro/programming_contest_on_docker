{
 "cells": [
  {
   "cell_type": "markdown",
   "metadata": {},
   "source": [
    "# B - インタラクティブ練習 (Interactive Sorting)\n",
    "https://atcoder.jp/contests/practice/tasks/practice_2\n",
    "\n",
    "N=26の時はソートで処理\n",
    "\n",
    "N=5の時は\n",
    "5P5通りを2分割できる質問を繰り返して1つになるまでやる"
   ]
  },
  {
   "cell_type": "code",
   "execution_count": 1,
   "metadata": {},
   "outputs": [
    {
     "name": "stdout",
     "output_type": "stream",
     "text": [
      "5 7\n"
     ]
    }
   ],
   "source": [
    "N, Q = map(int, input().split())"
   ]
  },
  {
   "cell_type": "code",
   "execution_count": 33,
   "metadata": {},
   "outputs": [
    {
     "name": "stdout",
     "output_type": "stream",
     "text": [
      "[('A', 'B', 'C', 'D', 'E'), ('A', 'B', 'C', 'E', 'D'), ('A', 'B', 'D', 'C', 'E'), ('A', 'B', 'D', 'E', 'C'), ('A', 'B', 'E', 'C', 'D'), ('A', 'B', 'E', 'D', 'C'), ('A', 'C', 'B', 'D', 'E'), ('A', 'C', 'B', 'E', 'D'), ('A', 'C', 'D', 'B', 'E'), ('A', 'C', 'D', 'E', 'B'), ('A', 'C', 'E', 'B', 'D'), ('A', 'C', 'E', 'D', 'B'), ('A', 'D', 'B', 'C', 'E'), ('A', 'D', 'B', 'E', 'C'), ('A', 'D', 'C', 'B', 'E'), ('A', 'D', 'C', 'E', 'B'), ('A', 'D', 'E', 'B', 'C'), ('A', 'D', 'E', 'C', 'B'), ('A', 'E', 'B', 'C', 'D'), ('A', 'E', 'B', 'D', 'C'), ('A', 'E', 'C', 'B', 'D'), ('A', 'E', 'C', 'D', 'B'), ('A', 'E', 'D', 'B', 'C'), ('A', 'E', 'D', 'C', 'B'), ('C', 'A', 'B', 'D', 'E'), ('C', 'A', 'B', 'E', 'D'), ('C', 'A', 'D', 'B', 'E'), ('C', 'A', 'D', 'E', 'B'), ('C', 'A', 'E', 'B', 'D'), ('C', 'A', 'E', 'D', 'B'), ('C', 'D', 'A', 'B', 'E'), ('C', 'D', 'A', 'E', 'B'), ('C', 'D', 'E', 'A', 'B'), ('C', 'E', 'A', 'B', 'D'), ('C', 'E', 'A', 'D', 'B'), ('C', 'E', 'D', 'A', 'B'), ('D', 'A', 'B', 'C', 'E'), ('D', 'A', 'B', 'E', 'C'), ('D', 'A', 'C', 'B', 'E'), ('D', 'A', 'C', 'E', 'B'), ('D', 'A', 'E', 'B', 'C'), ('D', 'A', 'E', 'C', 'B'), ('D', 'C', 'A', 'B', 'E'), ('D', 'C', 'A', 'E', 'B'), ('D', 'C', 'E', 'A', 'B'), ('D', 'E', 'A', 'B', 'C'), ('D', 'E', 'A', 'C', 'B'), ('D', 'E', 'C', 'A', 'B'), ('E', 'A', 'B', 'C', 'D'), ('E', 'A', 'B', 'D', 'C'), ('E', 'A', 'C', 'B', 'D'), ('E', 'A', 'C', 'D', 'B'), ('E', 'A', 'D', 'B', 'C'), ('E', 'A', 'D', 'C', 'B'), ('E', 'C', 'A', 'B', 'D'), ('E', 'C', 'A', 'D', 'B'), ('E', 'C', 'D', 'A', 'B'), ('E', 'D', 'A', 'B', 'C'), ('E', 'D', 'A', 'C', 'B'), ('E', 'D', 'C', 'A', 'B')]\n",
      "60\n",
      "=======\n",
      "[('A', 'B', 'C', 'D', 'E'), ('A', 'B', 'C', 'E', 'D'), ('A', 'B', 'E', 'C', 'D'), ('A', 'C', 'B', 'D', 'E'), ('A', 'C', 'B', 'E', 'D'), ('A', 'C', 'D', 'B', 'E'), ('A', 'C', 'D', 'E', 'B'), ('A', 'C', 'E', 'B', 'D'), ('A', 'C', 'E', 'D', 'B'), ('A', 'E', 'B', 'C', 'D'), ('A', 'E', 'C', 'B', 'D'), ('A', 'E', 'C', 'D', 'B'), ('C', 'A', 'B', 'D', 'E'), ('C', 'A', 'B', 'E', 'D'), ('C', 'A', 'D', 'B', 'E'), ('C', 'A', 'D', 'E', 'B'), ('C', 'A', 'E', 'B', 'D'), ('C', 'A', 'E', 'D', 'B'), ('C', 'D', 'A', 'B', 'E'), ('C', 'D', 'A', 'E', 'B'), ('C', 'D', 'E', 'A', 'B'), ('C', 'E', 'A', 'B', 'D'), ('C', 'E', 'A', 'D', 'B'), ('C', 'E', 'D', 'A', 'B'), ('E', 'A', 'B', 'C', 'D'), ('E', 'A', 'C', 'B', 'D'), ('E', 'A', 'C', 'D', 'B'), ('E', 'C', 'A', 'B', 'D'), ('E', 'C', 'A', 'D', 'B'), ('E', 'C', 'D', 'A', 'B')]\n",
      "30\n",
      "=======\n",
      "[('A', 'B', 'C', 'D', 'E'), ('A', 'B', 'C', 'E', 'D'), ('A', 'B', 'E', 'C', 'D'), ('A', 'C', 'B', 'D', 'E'), ('A', 'C', 'B', 'E', 'D'), ('A', 'C', 'D', 'B', 'E'), ('A', 'C', 'D', 'E', 'B'), ('A', 'C', 'E', 'B', 'D'), ('A', 'C', 'E', 'D', 'B'), ('A', 'E', 'B', 'C', 'D'), ('A', 'E', 'C', 'B', 'D'), ('A', 'E', 'C', 'D', 'B'), ('E', 'A', 'B', 'C', 'D'), ('E', 'A', 'C', 'B', 'D'), ('E', 'A', 'C', 'D', 'B')]\n",
      "15\n",
      "=======\n",
      "[('A', 'C', 'D', 'E', 'B'), ('A', 'C', 'E', 'B', 'D'), ('A', 'C', 'E', 'D', 'B'), ('A', 'E', 'B', 'C', 'D'), ('A', 'E', 'C', 'B', 'D'), ('A', 'E', 'C', 'D', 'B'), ('E', 'A', 'B', 'C', 'D'), ('E', 'A', 'C', 'B', 'D'), ('E', 'A', 'C', 'D', 'B')]\n",
      "9\n",
      "=======\n",
      "[('A', 'C', 'D', 'E', 'B')]\n",
      "1\n",
      "=======\n",
      "[('A', 'C', 'D', 'E', 'B')]\n",
      "1\n",
      "=======\n",
      "[('A', 'C', 'D', 'E', 'B')]\n",
      "1\n",
      "=======\n",
      "! ACDEB\n"
     ]
    }
   ],
   "source": [
    "import itertools\n",
    "import re\n",
    "\n",
    "def extract_permutation(permutation, a, b):\n",
    "    ext = []\n",
    "    for p in permutation:\n",
    "        if re.match( '.*{}.*{}.*'.format(a, b), ''.join(p)):\n",
    "        #if  '{}{}'.format(a, b) in ''.join(p):\n",
    "            ext.append(p)\n",
    "    \n",
    "    return ext\n",
    "    \n",
    "\n",
    "def main_func():\n",
    "    x_values = [\n",
    "        \"A\", \"B\", \"C\", \"D\", \"E\", \"F\", \"G\",\n",
    "        \"H\", \"I\", \"J\", \"K\", \"L\", \"M\", \"N\",\n",
    "        \"O\", \"P\", \"Q\", \"R\", \"S\", \"T\", \"U\",\n",
    "        \"V\", \"W\", \"X\", \"Y\", \"Z\"]\n",
    "    x_values = x_values[:N]\n",
    "    permutation = list(itertools.permutations(x_values))\n",
    "    \n",
    "    permutation = extract_permutation(permutation, 'A', 'B')\n",
    "    print(permutation)\n",
    "    print(len(permutation))\n",
    "    print(\"=======\")\n",
    "    \n",
    "    permutation = extract_permutation(permutation, 'C', 'D')\n",
    "    print(permutation)\n",
    "    print(len(permutation))\n",
    "    print(\"=======\")\n",
    "    \n",
    "    permutation = extract_permutation(permutation, 'A', 'C')\n",
    "    print(permutation)\n",
    "    print(len(permutation))\n",
    "    print(\"=======\")\n",
    "\n",
    "    permutation = extract_permutation(permutation, 'B', 'E')\n",
    "    print(permutation)\n",
    "    print(len(permutation))\n",
    "    print(\"=======\")\n",
    "    \n",
    "    permutation = extract_permutation(permutation, 'D', 'E')\n",
    "    print(permutation)\n",
    "    print(len(permutation))\n",
    "    print(\"=======\")\n",
    "    \n",
    "    permutation = extract_permutation(permutation, 'C', 'B')\n",
    "    print(permutation)\n",
    "    print(len(permutation))\n",
    "    print(\"=======\")\n",
    "    \n",
    "    permutation = extract_permutation(permutation, 'D', 'B')\n",
    "    print(permutation)\n",
    "    print(len(permutation))\n",
    "    print(\"=======\")\n",
    "    \n",
    "    ans = ''.join(permutation[0])\n",
    "    print('! '+ans)\n",
    "main_func()"
   ]
  },
  {
   "cell_type": "code",
   "execution_count": null,
   "metadata": {},
   "outputs": [],
   "source": []
  }
 ],
 "metadata": {
  "kernelspec": {
   "display_name": "Python 3",
   "language": "python",
   "name": "python3"
  },
  "language_info": {
   "codemirror_mode": {
    "name": "ipython",
    "version": 3
   },
   "file_extension": ".py",
   "mimetype": "text/x-python",
   "name": "python",
   "nbconvert_exporter": "python",
   "pygments_lexer": "ipython3",
   "version": "3.7.1"
  }
 },
 "nbformat": 4,
 "nbformat_minor": 2
}
