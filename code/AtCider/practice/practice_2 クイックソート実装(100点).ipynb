{
 "cells": [
  {
   "cell_type": "markdown",
   "metadata": {},
   "source": [
    "# B - インタラクティブ練習 (Interactive Sorting)\n",
    "https://atcoder.jp/contests/practice/tasks/practice_2"
   ]
  },
  {
   "cell_type": "code",
   "execution_count": 1,
   "metadata": {},
   "outputs": [
    {
     "name": "stdout",
     "output_type": "stream",
     "text": [
      "3 10\n"
     ]
    }
   ],
   "source": [
    "N, Q = map(int, input().split())"
   ]
  },
  {
   "cell_type": "code",
   "execution_count": 6,
   "metadata": {},
   "outputs": [
    {
     "name": "stdout",
     "output_type": "stream",
     "text": [
      "? A B\n",
      ">\n",
      "? A C\n",
      "<\n",
      "!BAC\n"
     ]
    }
   ],
   "source": [
    "def quicksort(x):\n",
    "    if x==[]: return []\n",
    "\n",
    "    smler = []\n",
    "    biger = []\n",
    "    a = x[0]\n",
    "    for b in x[1:]:\n",
    "        print(\"? {} {}\".format(a, b))\n",
    "        ans = input()\n",
    "        if ans == '>':\n",
    "            smler.append(b)\n",
    "        else:\n",
    "            biger.append(b)\n",
    "    smallerSorted = quicksort(smler)\n",
    "    biggerSorted = quicksort(biger)\n",
    "\n",
    "    return(smallerSorted+[x[0]]+biggerSorted)\n",
    "\n",
    "\n",
    "\n",
    "def main_func(N, Q):\n",
    "    x_values = [\n",
    "        \"A\", \"B\", \"C\", \"D\", \"E\", \"F\", \"G\",\n",
    "        \"H\", \"I\", \"J\", \"K\", \"L\", \"M\", \"N\",\n",
    "        \"O\", \"P\", \"Q\", \"R\", \"S\", \"T\", \"U\",\n",
    "        \"V\", \"W\", \"X\", \"Y\", \"Z\"]\n",
    "    \n",
    "    ans = quicksort(x_values[:N])\n",
    "    ans = ''.join(ans)\n",
    "    print('! '+ans)\n",
    "    \n",
    "\n",
    "main_func(N, Q)"
   ]
  },
  {
   "cell_type": "code",
   "execution_count": null,
   "metadata": {},
   "outputs": [],
   "source": []
  }
 ],
 "metadata": {
  "kernelspec": {
   "display_name": "Python 3",
   "language": "python",
   "name": "python3"
  },
  "language_info": {
   "codemirror_mode": {
    "name": "ipython",
    "version": 3
   },
   "file_extension": ".py",
   "mimetype": "text/x-python",
   "name": "python",
   "nbconvert_exporter": "python",
   "pygments_lexer": "ipython3",
   "version": "3.7.1"
  }
 },
 "nbformat": 4,
 "nbformat_minor": 2
}
