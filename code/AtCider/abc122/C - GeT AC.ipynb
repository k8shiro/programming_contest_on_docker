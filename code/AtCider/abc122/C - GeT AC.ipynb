{
 "cells": [
  {
   "cell_type": "markdown",
   "metadata": {},
   "source": [
    "# C - GeT AC"
   ]
  },
  {
   "cell_type": "code",
   "execution_count": 19,
   "metadata": {
    "scrolled": true
   },
   "outputs": [
    {
     "name": "stdout",
     "output_type": "stream",
     "text": [
      "8 3\n",
      "ACACTACG\n",
      "[0, 1, 0, 1, 0, 0, 1, 0]\n",
      "[0, 1, 1, 2, 2, 2, 3, 3]\n",
      "3 7\n",
      "2\n",
      "2 3\n",
      "0\n",
      "1 8\n",
      "3\n"
     ]
    }
   ],
   "source": [
    "N, Q = map(int, input().split())\n",
    "S = str(input())\n",
    "\n",
    "l_list = []\n",
    "r_list = []\n",
    "\n",
    "s_count = [0]\n",
    "for i in range(len(S) - 1):\n",
    "    if S[i:i+2] == 'AC':\n",
    "        s_count.append(1)\n",
    "    else:\n",
    "        s_count.append(0)\n",
    "#print(s_count)\n",
    "\n",
    "n_count = []\n",
    "n_sum = 0\n",
    "for n in s_count:\n",
    "    n_sum = n_sum + n\n",
    "    n_count.append(n_sum)\n",
    "\n",
    "#print(n_count)\n",
    "\n",
    "\n",
    "for x in range(Q):\n",
    "    l, r = map(int, input().split())\n",
    "    ans = n_count[r-1] - n_count[l-1]\n",
    "    print(ans)\n",
    "    \n",
    "    \n",
    "\n",
    "\n"
   ]
  },
  {
   "cell_type": "code",
   "execution_count": null,
   "metadata": {},
   "outputs": [],
   "source": []
  },
  {
   "cell_type": "code",
   "execution_count": null,
   "metadata": {},
   "outputs": [],
   "source": []
  }
 ],
 "metadata": {
  "kernelspec": {
   "display_name": "Python 3",
   "language": "python",
   "name": "python3"
  },
  "language_info": {
   "codemirror_mode": {
    "name": "ipython",
    "version": 3
   },
   "file_extension": ".py",
   "mimetype": "text/x-python",
   "name": "python",
   "nbconvert_exporter": "python",
   "pygments_lexer": "ipython3",
   "version": "3.7.1"
  }
 },
 "nbformat": 4,
 "nbformat_minor": 2
}
