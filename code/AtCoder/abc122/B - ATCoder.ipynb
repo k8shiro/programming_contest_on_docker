{
 "cells": [
  {
   "cell_type": "markdown",
   "metadata": {},
   "source": [
    "# B - ATCoder"
   ]
  },
  {
   "cell_type": "code",
   "execution_count": 21,
   "metadata": {},
   "outputs": [
    {
     "name": "stdout",
     "output_type": "stream",
     "text": [
      "HATAGAYA\n",
      "5\n"
     ]
    }
   ],
   "source": [
    "\n",
    "S = str(input())\n",
    "\n",
    "max_len = 0\n",
    "\n",
    "for i in range(len(S)):\n",
    "    for j in range(i, len(S)):\n",
    "        compared_str = compared_str = S[i : j+1]\n",
    "        compared_str = compared_str.replace('A', '')\n",
    "        compared_str = compared_str.replace('C', '')\n",
    "        compared_str = compared_str.replace('G', '')\n",
    "        compared_str = compared_str.replace('T', '')\n",
    "        \n",
    "        if compared_str == '':\n",
    "            max_len = max([max_len, len(S[i : j+1])])\n",
    "        \n",
    "print(max_len)\n",
    "    \n",
    "        \n",
    "        \n",
    "        \n",
    "        "
   ]
  },
  {
   "cell_type": "code",
   "execution_count": null,
   "metadata": {},
   "outputs": [],
   "source": []
  },
  {
   "cell_type": "code",
   "execution_count": null,
   "metadata": {},
   "outputs": [],
   "source": []
  }
 ],
 "metadata": {
  "kernelspec": {
   "display_name": "Python 3",
   "language": "python",
   "name": "python3"
  },
  "language_info": {
   "codemirror_mode": {
    "name": "ipython",
    "version": 3
   },
   "file_extension": ".py",
   "mimetype": "text/x-python",
   "name": "python",
   "nbconvert_exporter": "python",
   "pygments_lexer": "ipython3",
   "version": "3.7.1"
  }
 },
 "nbformat": 4,
 "nbformat_minor": 2
}
