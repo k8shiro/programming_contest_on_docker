{
 "cells": [
  {
   "cell_type": "markdown",
   "metadata": {},
   "source": [
    "# D - We Like AGC"
   ]
  },
  {
   "cell_type": "code",
   "execution_count": 26,
   "metadata": {},
   "outputs": [
    {
     "name": "stdout",
     "output_type": "stream",
     "text": [
      "4\n",
      "230\n"
     ]
    }
   ],
   "source": [
    "N = int(input())\n",
    "\n",
    "import re\n",
    "def make_agct(n):        \n",
    "    agct = ['A', 'G', 'C', 'T']\n",
    "    accept_list = {}\n",
    "    \n",
    "    accept_list[3] = {}\n",
    "    for s0 in agct:\n",
    "        for s1 in agct:\n",
    "            for s2 in agct:\n",
    "                s = s0 + s1 + s2\n",
    "                if s == 'AGC':\n",
    "                    continue\n",
    "                if s == 'ACG':\n",
    "                    continue\n",
    "                if s == 'GAC':\n",
    "                    continue\n",
    "                accept_list[3][s] = 1\n",
    "    \n",
    "    for i in range(3, n):\n",
    "        accept_list[i+1] = {}\n",
    "        for si, v in accept_list[i].items():\n",
    "            for sn in agct:\n",
    "                s = si + sn\n",
    "                last4 = s\n",
    "                if re.match('.AGC', last4 ):\n",
    "                    continue\n",
    "                if re.match('.ACG', last4 ):\n",
    "                    continue\n",
    "                if re.match('.GAC', last4 ):\n",
    "                    continue\n",
    "                if re.match('AG.C', last4 ):\n",
    "                    continue\n",
    "                if re.match('A.GC', last4 ):\n",
    "                    continue\n",
    "                last3 = s[1:]\n",
    "                if last3 in accept_list[i+1]:\n",
    "                    accept_list[i+1][last3] +=v\n",
    "                else:\n",
    "                    accept_list[i+1][last3] = v\n",
    "    \n",
    "    ans = 0\n",
    "    for k, v in accept_list[n].items():\n",
    "        ans += v\n",
    "    \n",
    "    ans = ans % (10 ** 9 + 7)\n",
    "    print(ans)       \n",
    "                \n",
    "make_agct(N)\n",
    "\n",
    "\n",
    "    \n",
    "\n",
    "\n",
    "\n",
    "\n",
    "    \n",
    "\n",
    "\n",
    "\n",
    "\n",
    "\n",
    "\n",
    "\n"
   ]
  },
  {
   "cell_type": "code",
   "execution_count": null,
   "metadata": {},
   "outputs": [],
   "source": []
  },
  {
   "cell_type": "code",
   "execution_count": null,
   "metadata": {},
   "outputs": [],
   "source": []
  },
  {
   "cell_type": "code",
   "execution_count": null,
   "metadata": {},
   "outputs": [],
   "source": []
  }
 ],
 "metadata": {
  "kernelspec": {
   "display_name": "Python 3",
   "language": "python",
   "name": "python3"
  },
  "language_info": {
   "codemirror_mode": {
    "name": "ipython",
    "version": 3
   },
   "file_extension": ".py",
   "mimetype": "text/x-python",
   "name": "python",
   "nbconvert_exporter": "python",
   "pygments_lexer": "ipython3",
   "version": "3.7.1"
  }
 },
 "nbformat": 4,
 "nbformat_minor": 2
}
