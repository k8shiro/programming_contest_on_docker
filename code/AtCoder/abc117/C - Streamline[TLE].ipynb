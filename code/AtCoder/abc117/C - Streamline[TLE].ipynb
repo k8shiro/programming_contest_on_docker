{
 "cells": [
  {
   "cell_type": "code",
   "execution_count": 72,
   "metadata": {},
   "outputs": [
    {
     "name": "stdout",
     "output_type": "stream",
     "text": [
      "3 7\n",
      "-10 -3 0 9 -100 2 17\n"
     ]
    }
   ],
   "source": [
    "N, M = map(int, input().split())\n",
    "X = list(map(int, input().split()))"
   ]
  },
  {
   "cell_type": "code",
   "execution_count": 78,
   "metadata": {},
   "outputs": [
    {
     "name": "stdout",
     "output_type": "stream",
     "text": [
      "19\n"
     ]
    }
   ],
   "source": [
    "points = X[:]\n",
    "points.sort()\n",
    "\n",
    "if M<=N:\n",
    "    ans = 0\n",
    "else:\n",
    "    import sys\n",
    "    INT_MAX = sys.maxsize\n",
    "    ans = INT_MAX\n",
    "\n",
    "    import itertools\n",
    "    for v in itertools.combinations(list(range(1, M)),N-1):\n",
    "        v = [0] + list(v)\n",
    "        #v.insert(0,0)\n",
    "        v.append(M)\n",
    "        #print(v)\n",
    "        cost_sum = 0\n",
    "        for i in range(1, len(v)):\n",
    "            sub_p = points[v[i-1]:v[i]]\n",
    "            cost = sub_p[-1] - sub_p[0]\n",
    "            #print(sub_p, cost)\n",
    "            cost_sum += cost\n",
    "            if cost_sum >= ans:\n",
    "                break\n",
    "        ans = min(ans, cost_sum)\n",
    "\n",
    "print(ans)\n",
    "\n",
    "\n",
    "\n",
    "\n",
    "\n",
    "    \n",
    "\n",
    "\n"
   ]
  },
  {
   "cell_type": "code",
   "execution_count": 31,
   "metadata": {},
   "outputs": [
    {
     "name": "stdout",
     "output_type": "stream",
     "text": [
      "[-101, -10, -3, 0, 2, 9, 17]\n",
      "[91, 7, 3, 2, 7, 8]\n",
      "[0, 1, 2, 3, 4, 5, 6]\n"
     ]
    }
   ],
   "source": [
    "print(points)\n",
    "print(diff_p)\n",
    "\n",
    "print(list(range(M)))\n"
   ]
  },
  {
   "cell_type": "code",
   "execution_count": null,
   "metadata": {},
   "outputs": [],
   "source": []
  }
 ],
 "metadata": {
  "kernelspec": {
   "display_name": "Python 3",
   "language": "python",
   "name": "python3"
  },
  "language_info": {
   "codemirror_mode": {
    "name": "ipython",
    "version": 3
   },
   "file_extension": ".py",
   "mimetype": "text/x-python",
   "name": "python",
   "nbconvert_exporter": "python",
   "pygments_lexer": "ipython3",
   "version": "3.7.1"
  }
 },
 "nbformat": 4,
 "nbformat_minor": 2
}
