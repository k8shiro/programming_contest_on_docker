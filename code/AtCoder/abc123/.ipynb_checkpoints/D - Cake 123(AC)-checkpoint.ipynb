{
 "cells": [
  {
   "cell_type": "code",
   "execution_count": 20,
   "metadata": {},
   "outputs": [
    {
     "name": "stdout",
     "output_type": "stream",
     "text": [
      "2 2 2 8\n",
      "4 6\n",
      "1 5\n",
      "3 8\n"
     ]
    }
   ],
   "source": [
    "X, Y, Z, K = map(int, input().split())\n",
    "\n",
    "A_list = list(map(int, input().split()))\n",
    "B_list = list(map(int, input().split()))\n",
    "C_list = list(map(int, input().split()))"
   ]
  },
  {
   "cell_type": "code",
   "execution_count": 37,
   "metadata": {},
   "outputs": [
    {
     "name": "stdout",
     "output_type": "stream",
     "text": [
      "19\n",
      "17\n",
      "15\n",
      "14\n",
      "13\n",
      "12\n",
      "10\n",
      "8\n"
     ]
    }
   ],
   "source": [
    "val_list = []\n",
    "\n",
    "\n",
    "A_list = sorted(A_list, reverse=True)\n",
    "B_list = sorted(B_list, reverse=True)\n",
    "C_list = sorted(C_list, reverse=True)\n",
    "\n",
    "#print(A_list)\n",
    "#print(B_list)\n",
    "#print(C_list)\n",
    "\n",
    "for a in range(len(A_list)):\n",
    "    if a + 1 > K:\n",
    "        break\n",
    "    for b in range(len(B_list)):\n",
    "        if b + 1 > K:\n",
    "            break\n",
    "        if (a+1) * (b+1) > K:\n",
    "            break\n",
    "            \n",
    "        for c in range(len(C_list)):\n",
    "            if c + 1 > K:\n",
    "                break\n",
    "            if (a+1) * (b+1) * (c+1) > K:\n",
    "                break\n",
    "        \n",
    "            val_list.append(A_list[a] + B_list[b] + C_list[c])\n",
    "\n",
    "val_list = sorted(val_list, reverse=True)\n",
    "for i in range(K):\n",
    "    print(val_list[i])\n",
    "\n",
    "    \n",
    "\n",
    "\n",
    "            \n"
   ]
  },
  {
   "cell_type": "code",
   "execution_count": null,
   "metadata": {},
   "outputs": [],
   "source": []
  },
  {
   "cell_type": "code",
   "execution_count": null,
   "metadata": {},
   "outputs": [],
   "source": []
  }
 ],
 "metadata": {
  "kernelspec": {
   "display_name": "Python 3",
   "language": "python",
   "name": "python3"
  },
  "language_info": {
   "codemirror_mode": {
    "name": "ipython",
    "version": 3
   },
   "file_extension": ".py",
   "mimetype": "text/x-python",
   "name": "python",
   "nbconvert_exporter": "python",
   "pygments_lexer": "ipython3",
   "version": "3.7.1"
  }
 },
 "nbformat": 4,
 "nbformat_minor": 2
}
