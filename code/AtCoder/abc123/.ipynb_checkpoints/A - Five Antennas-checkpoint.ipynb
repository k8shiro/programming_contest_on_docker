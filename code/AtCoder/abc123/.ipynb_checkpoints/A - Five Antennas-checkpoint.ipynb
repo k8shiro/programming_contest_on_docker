{
 "cells": [
  {
   "cell_type": "code",
   "execution_count": 8,
   "metadata": {},
   "outputs": [
    {
     "name": "stdout",
     "output_type": "stream",
     "text": [
      "15\n",
      "18\n",
      "26\n",
      "35\n",
      "36\n",
      "18\n"
     ]
    }
   ],
   "source": [
    "antennas = []\n",
    "for _ in range(5):\n",
    "    x = int(input())\n",
    "    antennas.append(x)\n",
    "k = int(input())"
   ]
  },
  {
   "cell_type": "code",
   "execution_count": 9,
   "metadata": {},
   "outputs": [
    {
     "name": "stdout",
     "output_type": "stream",
     "text": [
      ":(\n"
     ]
    }
   ],
   "source": [
    "import itertools\n",
    "\n",
    "ans = True\n",
    "for x, y in list(itertools.combinations(antennas,2)):\n",
    "    dist = abs(x - y)\n",
    "    if dist > k:\n",
    "        ans = False\n",
    "        break\n",
    "\n",
    "if ans == True:\n",
    "    print('Yay!')\n",
    "else:\n",
    "    print(':(')\n",
    "    \n"
   ]
  },
  {
   "cell_type": "code",
   "execution_count": null,
   "metadata": {},
   "outputs": [],
   "source": []
  }
 ],
 "metadata": {
  "kernelspec": {
   "display_name": "Python 3",
   "language": "python",
   "name": "python3"
  },
  "language_info": {
   "codemirror_mode": {
    "name": "ipython",
    "version": 3
   },
   "file_extension": ".py",
   "mimetype": "text/x-python",
   "name": "python",
   "nbconvert_exporter": "python",
   "pygments_lexer": "ipython3",
   "version": "3.7.1"
  }
 },
 "nbformat": 4,
 "nbformat_minor": 2
}
