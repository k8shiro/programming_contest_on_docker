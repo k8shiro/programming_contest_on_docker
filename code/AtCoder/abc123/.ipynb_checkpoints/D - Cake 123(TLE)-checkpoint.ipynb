{
 "cells": [
  {
   "cell_type": "code",
   "execution_count": 2,
   "metadata": {},
   "outputs": [
    {
     "name": "stdout",
     "output_type": "stream",
     "text": [
      "2 2 2 8\n",
      "4 6\n",
      "1 5\n",
      "3 8\n"
     ]
    }
   ],
   "source": [
    "X, Y, Z, K = map(int, input().split())\n",
    "\n",
    "A_list = map(int, input().split())\n",
    "B_list = map(int, input().split())\n",
    "C_list = map(int, input().split())"
   ]
  },
  {
   "cell_type": "code",
   "execution_count": 29,
   "metadata": {},
   "outputs": [
    {
     "name": "stdout",
     "output_type": "stream",
     "text": [
      "19\n",
      "17\n",
      "15\n",
      "14\n",
      "13\n",
      "12\n",
      "10\n",
      "8\n"
     ]
    }
   ],
   "source": [
    "import itertools\n",
    "val_list = []\n",
    "\n",
    "for a, b, c in itertools.product(A_list, B_list, C_list):\n",
    "    val_list.append(a + b + c)\n",
    "    \n",
    "val_list = sorted(val_list, reverse=True)\n",
    "for i in range(K):\n",
    "    print(val_list[i])\n",
    "    \n",
    "\n",
    "\n",
    "            \n"
   ]
  },
  {
   "cell_type": "code",
   "execution_count": null,
   "metadata": {},
   "outputs": [],
   "source": []
  }
 ],
 "metadata": {
  "kernelspec": {
   "display_name": "Python 3",
   "language": "python",
   "name": "python3"
  },
  "language_info": {
   "codemirror_mode": {
    "name": "ipython",
    "version": 3
   },
   "file_extension": ".py",
   "mimetype": "text/x-python",
   "name": "python",
   "nbconvert_exporter": "python",
   "pygments_lexer": "ipython3",
   "version": "3.7.1"
  }
 },
 "nbformat": 4,
 "nbformat_minor": 2
}
