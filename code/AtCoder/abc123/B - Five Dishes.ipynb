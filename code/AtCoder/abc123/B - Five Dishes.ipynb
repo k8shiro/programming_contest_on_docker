{
 "cells": [
  {
   "cell_type": "code",
   "execution_count": 8,
   "metadata": {},
   "outputs": [
    {
     "name": "stdout",
     "output_type": "stream",
     "text": [
      "123\n",
      "123\n",
      "123\n",
      "123\n",
      "123\n"
     ]
    }
   ],
   "source": [
    "dishes = []\n",
    "for _ in range(5):\n",
    "    x = int(input())\n",
    "    dishes.append(x)\n",
    "        "
   ]
  },
  {
   "cell_type": "code",
   "execution_count": 9,
   "metadata": {},
   "outputs": [
    {
     "name": "stdout",
     "output_type": "stream",
     "text": [
      "643\n"
     ]
    }
   ],
   "source": [
    "min_d = dishes[0]\n",
    "other_dishes = []\n",
    "for d in dishes[1:]:\n",
    "    if min_d % 10 > d % 10 and d % 10 != 0:\n",
    "        other_dishes.append(min_d)\n",
    "        min_d = d\n",
    "    else:\n",
    "        other_dishes.append(d)\n",
    "\n",
    "ans = 0\n",
    "for d in other_dishes:\n",
    "    if d % 10 == 0:\n",
    "        ans += d\n",
    "    else:\n",
    "        ans += (d // 10) * 10\n",
    "        ans += 10\n",
    "\n",
    "ans += min_d\n",
    "print(ans)\n",
    "    \n",
    "    "
   ]
  },
  {
   "cell_type": "code",
   "execution_count": null,
   "metadata": {},
   "outputs": [],
   "source": []
  },
  {
   "cell_type": "code",
   "execution_count": null,
   "metadata": {},
   "outputs": [],
   "source": []
  }
 ],
 "metadata": {
  "kernelspec": {
   "display_name": "Python 3",
   "language": "python",
   "name": "python3"
  },
  "language_info": {
   "codemirror_mode": {
    "name": "ipython",
    "version": 3
   },
   "file_extension": ".py",
   "mimetype": "text/x-python",
   "name": "python",
   "nbconvert_exporter": "python",
   "pygments_lexer": "ipython3",
   "version": "3.7.1"
  }
 },
 "nbformat": 4,
 "nbformat_minor": 2
}
