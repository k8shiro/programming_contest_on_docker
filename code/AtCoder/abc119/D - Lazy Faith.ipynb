{
 "cells": [
  {
   "cell_type": "code",
   "execution_count": 26,
   "metadata": {},
   "outputs": [
    {
     "name": "stdout",
     "output_type": "stream",
     "text": [
      "1 1 3\n",
      "1\n",
      "10000000000\n",
      "2\n",
      "9999999999\n",
      "5000000000\n"
     ]
    }
   ],
   "source": [
    "A, B, Q = map(int, input().split())\n",
    "s = []\n",
    "t = []\n",
    "x = []\n",
    "for _ in range(A):\n",
    "    s.append(int(input()))\n",
    "for _ in range(B):\n",
    "    t.append(int(input()))\n",
    "for _ in range(Q):\n",
    "    x.append(int(input()))"
   ]
  },
  {
   "cell_type": "code",
   "execution_count": 27,
   "metadata": {},
   "outputs": [],
   "source": [
    "import sys\n",
    "INT_MAX = sys.maxsize\n",
    "s.insert(0, -1 * INT_MAX)\n",
    "s.append(INT_MAX)\n",
    "t.insert(0, -1 * INT_MAX)\n",
    "t.append(INT_MAX)\n"
   ]
  },
  {
   "cell_type": "code",
   "execution_count": 29,
   "metadata": {},
   "outputs": [
    {
     "name": "stdout",
     "output_type": "stream",
     "text": [
      "10000000000\n",
      "10000000000\n",
      "14999999998\n"
     ]
    }
   ],
   "source": [
    "import bisect\n",
    "for xi in x:\n",
    "    #print(xi)\n",
    "    si = bisect.bisect_right(s, xi)\n",
    "    #si = 0\n",
    "    #for si, v in enumerate(s):\n",
    "    #    if v > xi:\n",
    "    #        break\n",
    "    ti = bisect.bisect_right(t, xi)\n",
    "    #ti = 0\n",
    "    #for ti, v in enumerate(t):\n",
    "    #    if v > xi:\n",
    "    #        break\n",
    "    #print(si, ti)\n",
    "    sa = s[si]\n",
    "    ta = t[ti]\n",
    "    sb = s[si-1]\n",
    "    tb = t[ti-1]\n",
    "    #print(sa, sb,ta,tb)\n",
    "    ans = min([\n",
    "        abs(xi-sa)+abs(sa-ta),\n",
    "        abs(xi-sa)+abs(sa-tb),\n",
    "        abs(xi-sb)+abs(sb-ta),\n",
    "        abs(xi-sb)+abs(sb-tb),\n",
    "        abs(xi-ta)+abs(ta-sa),\n",
    "        abs(xi-ta)+abs(ta-sb),\n",
    "        abs(xi-tb)+abs(tb-sa),\n",
    "        abs(xi-tb)+abs(tb-sb)\n",
    "    ])\n",
    "    print(ans)"
   ]
  },
  {
   "cell_type": "code",
   "execution_count": null,
   "metadata": {},
   "outputs": [],
   "source": []
  }
 ],
 "metadata": {
  "kernelspec": {
   "display_name": "Python 3",
   "language": "python",
   "name": "python3"
  },
  "language_info": {
   "codemirror_mode": {
    "name": "ipython",
    "version": 3
   },
   "file_extension": ".py",
   "mimetype": "text/x-python",
   "name": "python",
   "nbconvert_exporter": "python",
   "pygments_lexer": "ipython3",
   "version": "3.7.1"
  }
 },
 "nbformat": 4,
 "nbformat_minor": 2
}
