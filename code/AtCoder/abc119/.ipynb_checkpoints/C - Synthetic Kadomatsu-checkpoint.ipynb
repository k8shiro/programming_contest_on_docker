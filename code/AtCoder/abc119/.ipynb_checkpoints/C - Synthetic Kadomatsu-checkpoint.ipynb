{
 "cells": [
  {
   "cell_type": "code",
   "execution_count": 15,
   "metadata": {},
   "outputs": [
    {
     "name": "stdout",
     "output_type": "stream",
     "text": [
      "8 1000 800 100\n",
      "300\n",
      "333\n",
      "400\n",
      "444\n",
      "500\n",
      "555\n",
      "600\n",
      "666\n"
     ]
    }
   ],
   "source": [
    "N, A, B, C = map(int, input().split())\n",
    "\n",
    "bamboos = []\n",
    "for _ in range(N):\n",
    "    l = int(input())\n",
    "    bamboos.append(l)"
   ]
  },
  {
   "cell_type": "code",
   "execution_count": 16,
   "metadata": {},
   "outputs": [
    {
     "name": "stdout",
     "output_type": "stream",
     "text": [
      "243\n"
     ]
    }
   ],
   "source": [
    "import copy\n",
    "\n",
    "def dfs(i, bs):\n",
    "    if i == len(bamboos):\n",
    "        #print(bs)\n",
    "        if not bs['A'] or not bs['B'] or not bs['C']:\n",
    "            return []\n",
    "        return [bs]\n",
    "    ret = []\n",
    "    tmp = copy.deepcopy(bs)\n",
    "    tmp['A'].append(bamboos[i])\n",
    "    ret.extend(dfs(i+1, tmp))\n",
    "    tmp = copy.deepcopy(bs)\n",
    "    tmp['B'].append(bamboos[i])\n",
    "    ret.extend(dfs(i+1, tmp))\n",
    "    tmp = copy.deepcopy(bs)\n",
    "    tmp['C'].append(bamboos[i])\n",
    "    ret.extend(dfs(i+1, tmp))\n",
    "    tmp = copy.deepcopy(bs)\n",
    "    tmp['D'].append(bamboos[i])\n",
    "    ret.extend(dfs(i+1, tmp))\n",
    "    \n",
    "    return ret\n",
    "\n",
    "ABC = {'A': A, 'B': B, 'C': C}\n",
    "bs_comb = dfs(0, {'A':[],'B':[],'C':[],'D':[]})\n",
    "\n",
    "import sys\n",
    "ans = sys.maxsize\n",
    "for bs in bs_comb:\n",
    "    cost = 0\n",
    "    for abc in ['A', 'B', 'C']:\n",
    "        cost += (len(bs[abc]) - 1) * 10\n",
    "        cost += abs(sum(bs[abc]) - ABC[abc])\n",
    "    ans = min(ans, cost)\n",
    "print(ans)\n",
    "\n"
   ]
  },
  {
   "cell_type": "code",
   "execution_count": null,
   "metadata": {},
   "outputs": [],
   "source": []
  },
  {
   "cell_type": "code",
   "execution_count": null,
   "metadata": {},
   "outputs": [],
   "source": []
  },
  {
   "cell_type": "code",
   "execution_count": null,
   "metadata": {},
   "outputs": [],
   "source": []
  }
 ],
 "metadata": {
  "kernelspec": {
   "display_name": "Python 3",
   "language": "python",
   "name": "python3"
  },
  "language_info": {
   "codemirror_mode": {
    "name": "ipython",
    "version": 3
   },
   "file_extension": ".py",
   "mimetype": "text/x-python",
   "name": "python",
   "nbconvert_exporter": "python",
   "pygments_lexer": "ipython3",
   "version": "3.7.1"
  }
 },
 "nbformat": 4,
 "nbformat_minor": 2
}
