{
 "cells": [
  {
   "cell_type": "code",
   "execution_count": 4,
   "metadata": {},
   "outputs": [
    {
     "name": "stdout",
     "output_type": "stream",
     "text": [
      "3\n",
      "100000000 JPY\n",
      "100.00000000 BTC\n",
      "0.00000001 BTC\n"
     ]
    }
   ],
   "source": [
    "N = int(input())\n",
    "\n",
    "gifts = []\n",
    "for _ in range(N):\n",
    "    x, u = map(str, input().split())\n",
    "    gifts.append([float(x), u])"
   ]
  },
  {
   "cell_type": "code",
   "execution_count": 5,
   "metadata": {},
   "outputs": [
    {
     "name": "stdout",
     "output_type": "stream",
     "text": [
      "138000000.0038\n"
     ]
    }
   ],
   "source": [
    "ans = 0.0\n",
    "for g in gifts:\n",
    "    x = g[0]\n",
    "    u = g[1]\n",
    "    \n",
    "    if u == 'JPY':\n",
    "        ans += x\n",
    "    \n",
    "    if u == 'BTC':\n",
    "        ans += x * 380000.0\n",
    "\n",
    "print(ans)"
   ]
  },
  {
   "cell_type": "code",
   "execution_count": null,
   "metadata": {},
   "outputs": [],
   "source": []
  }
 ],
 "metadata": {
  "kernelspec": {
   "display_name": "Python 3",
   "language": "python",
   "name": "python3"
  },
  "language_info": {
   "codemirror_mode": {
    "name": "ipython",
    "version": 3
   },
   "file_extension": ".py",
   "mimetype": "text/x-python",
   "name": "python",
   "nbconvert_exporter": "python",
   "pygments_lexer": "ipython3",
   "version": "3.7.1"
  }
 },
 "nbformat": 4,
 "nbformat_minor": 2
}
