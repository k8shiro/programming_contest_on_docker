{
 "cells": [
  {
   "cell_type": "code",
   "execution_count": 2,
   "metadata": {},
   "outputs": [
    {
     "name": "stdout",
     "output_type": "stream",
     "text": [
      "8 100 90 80\n",
      "100\n",
      "100\n",
      "90\n",
      "90\n",
      "90\n",
      "80\n",
      "80\n",
      "80\n"
     ]
    }
   ],
   "source": [
    "N, A, B, C = map(int, input().split())\n",
    "\n",
    "bamboos = []\n",
    "for _ in range(N):\n",
    "    l = int(input())\n",
    "    bamboos.append(l)"
   ]
  },
  {
   "cell_type": "code",
   "execution_count": 27,
   "metadata": {},
   "outputs": [
    {
     "name": "stdout",
     "output_type": "stream",
     "text": [
      "0\n"
     ]
    }
   ],
   "source": [
    "ABC = [A, B, C]\n",
    "\n",
    "import itertools\n",
    "import sys\n",
    "\n",
    "ans = sys.maxsize\n",
    "executed = set()\n",
    "for i in range(3, N+1):\n",
    "    for bamboos_rearranged in itertools.permutations(bamboos, i):\n",
    "        execute = ','.join(map(str,bamboos_rearranged))\n",
    "        if execute in executed:\n",
    "            continue\n",
    "        else:\n",
    "            executed.add(execute)\n",
    "        #print(bamboos_rearranged)\n",
    "        for j in range(1, len(bamboos_rearranged)):\n",
    "            for k in range(j+1, len(bamboos_rearranged)):\n",
    "                bamboos_abc = (bamboos_rearranged[:j], bamboos_rearranged[j:k], bamboos_rearranged[k:])\n",
    "                cost = 0\n",
    "                flag = True\n",
    "                for n, b in enumerate(bamboos_abc):\n",
    "                    cost += (len(b) - 1) * 10\n",
    "                    cost += abs(ABC[n] - sum(b))\n",
    "                    if cost >= ans:\n",
    "                        flag = False\n",
    "                        break\n",
    "                if flag == True:\n",
    "                    ans = min(ans, cost)\n",
    "print(ans)\n",
    "        \n",
    "    "
   ]
  },
  {
   "cell_type": "code",
   "execution_count": null,
   "metadata": {},
   "outputs": [],
   "source": []
  },
  {
   "cell_type": "code",
   "execution_count": null,
   "metadata": {},
   "outputs": [],
   "source": []
  }
 ],
 "metadata": {
  "kernelspec": {
   "display_name": "Python 3",
   "language": "python",
   "name": "python3"
  },
  "language_info": {
   "codemirror_mode": {
    "name": "ipython",
    "version": 3
   },
   "file_extension": ".py",
   "mimetype": "text/x-python",
   "name": "python",
   "nbconvert_exporter": "python",
   "pygments_lexer": "ipython3",
   "version": "3.7.1"
  }
 },
 "nbformat": 4,
 "nbformat_minor": 2
}
