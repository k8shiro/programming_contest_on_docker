{
 "cells": [
  {
   "cell_type": "code",
   "execution_count": 4,
   "metadata": {},
   "outputs": [
    {
     "name": "stdout",
     "output_type": "stream",
     "text": [
      "10 15\n",
      "SNCZWRCEWB\n",
      "B R\n",
      "R R\n",
      "E R\n",
      "W R\n",
      "Z L\n",
      "S R\n",
      "Q L\n",
      "W L\n",
      "B R\n",
      "C L\n",
      "A L\n",
      "N L\n",
      "E R\n",
      "Z L\n",
      "S L\n"
     ]
    }
   ],
   "source": [
    "N, Q = map(int, input().split())\n",
    "s = str(input())\n",
    "\n",
    "t = []\n",
    "d = []\n",
    "\n",
    "for _ in range(Q):\n",
    "    ti, di = map(str, input().split())\n",
    "    t.append(ti)\n",
    "    d.append(di)\n",
    "\n",
    "\n"
   ]
  },
  {
   "cell_type": "code",
   "execution_count": 28,
   "metadata": {},
   "outputs": [
    {
     "name": "stdout",
     "output_type": "stream",
     "text": [
      "3\n"
     ]
    }
   ],
   "source": [
    "def main_fanc(s, t, d, N):\n",
    "    masu = {}\n",
    "    for i, si in enumerate(s):\n",
    "        if not si in masu:\n",
    "            masu[si] = [i]\n",
    "        else:\n",
    "            masu[si].append(i)\n",
    "\n",
    "    \n",
    "    g = [1 for _ in range(N)]\n",
    "    \n",
    "    for ti, di in zip(t, d):\n",
    "        if not ti in masu:\n",
    "            continue\n",
    "        if di == 'L':\n",
    "            for pos in masu[ti]:\n",
    "                if pos == 0:\n",
    "                    g[pos] = 0\n",
    "                else:\n",
    "                    g[pos - 1] += g[pos]\n",
    "                    g[pos] = 0\n",
    "        if di == 'R':\n",
    "\n",
    "            for pos in reversed(masu[ti]):\n",
    "                if pos == N - 1:\n",
    "                    g[pos] = 0\n",
    "                else:\n",
    "                    g[pos + 1] += g[pos]\n",
    "                    g[pos] = 0\n",
    "    \n",
    "    print(sum(g))\n",
    "                    \n",
    "\n",
    "main_fanc(s, t, d, N)"
   ]
  },
  {
   "cell_type": "code",
   "execution_count": null,
   "metadata": {},
   "outputs": [],
   "source": []
  }
 ],
 "metadata": {
  "kernelspec": {
   "display_name": "Python 3",
   "language": "python",
   "name": "python3"
  },
  "language_info": {
   "codemirror_mode": {
    "name": "ipython",
    "version": 3
   },
   "file_extension": ".py",
   "mimetype": "text/x-python",
   "name": "python",
   "nbconvert_exporter": "python",
   "pygments_lexer": "ipython3",
   "version": "3.7.1"
  }
 },
 "nbformat": 4,
 "nbformat_minor": 2
}
