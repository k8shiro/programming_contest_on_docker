{
 "cells": [
  {
   "cell_type": "code",
   "execution_count": 1,
   "metadata": {},
   "outputs": [
    {
     "name": "stdout",
     "output_type": "stream",
     "text": [
      "10 15\n",
      "SNCZWRCEWB\n",
      "B R\n",
      "R R\n",
      "E R\n",
      "W R\n",
      "Z L\n",
      "S R\n",
      "Q L\n",
      "W L\n",
      "B R\n",
      "C L\n",
      "A L\n",
      "N L\n",
      "E R\n",
      "Z L\n",
      "S L\n"
     ]
    }
   ],
   "source": [
    "N, Q = map(int, input().split())\n",
    "s = str(input())\n",
    "\n",
    "t = []\n",
    "d = []\n",
    "\n",
    "for _ in range(Q):\n",
    "    ti, di = map(str, input().split())\n",
    "    t.append(ti)\n",
    "    d.append(di)\n",
    "\n"
   ]
  },
  {
   "cell_type": "code",
   "execution_count": 2,
   "metadata": {},
   "outputs": [
    {
     "name": "stdout",
     "output_type": "stream",
     "text": [
      "3\n"
     ]
    }
   ],
   "source": [
    "def main_fanc(s, t, d, N):\n",
    "    masu = []\n",
    "    for si in s:\n",
    "        masu.append({'key': si, 'val': 1})\n",
    "        \n",
    "    for ti, di in zip(t, d):\n",
    "        if di == 'L':\n",
    "            for i, m in enumerate(masu):\n",
    "                if m['key'] != ti:\n",
    "                    continue\n",
    "                if i == 0:\n",
    "                    masu[i]['val'] = 0\n",
    "                else:\n",
    "                    masu[i - 1]['val'] += masu[i]['val']\n",
    "                    masu[i]['val'] = 0\n",
    "                    \n",
    "        if di == 'R':\n",
    "            masu.reverse()\n",
    "            for i, m in enumerate(masu):\n",
    "                if m['key'] != ti:\n",
    "                    continue\n",
    "                if i == 0:\n",
    "                    masu[i]['val'] = 0\n",
    "                else:\n",
    "                    masu[i - 1]['val'] += masu[i]['val']\n",
    "                    masu[i]['val'] = 0\n",
    "            masu.reverse()\n",
    "    \n",
    "    c = 0\n",
    "    for m in masu:\n",
    "        c += m['val']\n",
    "    \n",
    "    print(c)\n",
    "                \n",
    "main_fanc(s, t, d, N)"
   ]
  },
  {
   "cell_type": "code",
   "execution_count": null,
   "metadata": {},
   "outputs": [],
   "source": []
  }
 ],
 "metadata": {
  "kernelspec": {
   "display_name": "Python 3",
   "language": "python",
   "name": "python3"
  },
  "language_info": {
   "codemirror_mode": {
    "name": "ipython",
    "version": 3
   },
   "file_extension": ".py",
   "mimetype": "text/x-python",
   "name": "python",
   "nbconvert_exporter": "python",
   "pygments_lexer": "ipython3",
   "version": "3.7.1"
  }
 },
 "nbformat": 4,
 "nbformat_minor": 2
}
