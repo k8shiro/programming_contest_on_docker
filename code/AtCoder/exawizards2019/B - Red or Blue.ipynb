{
 "cells": [
  {
   "cell_type": "code",
   "execution_count": 4,
   "metadata": {},
   "outputs": [
    {
     "name": "stdout",
     "output_type": "stream",
     "text": [
      "4\n",
      "RBRB\n",
      "No\n"
     ]
    }
   ],
   "source": [
    "N = int(input())\n",
    "s = str(input())\n",
    "\n",
    "r = 0\n",
    "b = 0\n",
    "for i in range(N):\n",
    "    if s[i] == 'R':\n",
    "        r += 1\n",
    "    else:\n",
    "        b += 1\n",
    "\n",
    "if r > b:\n",
    "    print('Yes')\n",
    "else:\n",
    "    print('No')"
   ]
  },
  {
   "cell_type": "code",
   "execution_count": null,
   "metadata": {},
   "outputs": [],
   "source": []
  },
  {
   "cell_type": "code",
   "execution_count": null,
   "metadata": {},
   "outputs": [],
   "source": []
  }
 ],
 "metadata": {
  "kernelspec": {
   "display_name": "Python 3",
   "language": "python",
   "name": "python3"
  },
  "language_info": {
   "codemirror_mode": {
    "name": "ipython",
    "version": 3
   },
   "file_extension": ".py",
   "mimetype": "text/x-python",
   "name": "python",
   "nbconvert_exporter": "python",
   "pygments_lexer": "ipython3",
   "version": "3.7.1"
  }
 },
 "nbformat": 4,
 "nbformat_minor": 2
}
