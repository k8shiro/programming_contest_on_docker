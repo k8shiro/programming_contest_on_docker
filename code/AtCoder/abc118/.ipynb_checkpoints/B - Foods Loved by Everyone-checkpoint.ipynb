{
 "cells": [
  {
   "cell_type": "code",
   "execution_count": 4,
   "metadata": {},
   "outputs": [
    {
     "name": "stdout",
     "output_type": "stream",
     "text": [
      "3 4\n",
      "2 1 3\n",
      "3 1 2 3\n",
      "2 3 2\n"
     ]
    }
   ],
   "source": [
    "N, M = map(int, input().split())\n",
    "A = []\n",
    "for _ in range(N):\n",
    "    k_a = map(int, input().split())\n",
    "    A.append(list(k_a)[:])"
   ]
  },
  {
   "cell_type": "code",
   "execution_count": 8,
   "metadata": {},
   "outputs": [
    {
     "name": "stdout",
     "output_type": "stream",
     "text": [
      "1\n"
     ]
    }
   ],
   "source": [
    "LIKE = [0 for _ in range(M + 1)]\n",
    "\n",
    "for Ai in A:\n",
    "    for a in Ai[1:]:\n",
    "        LIKE[a] += 1\n",
    "\n",
    "ans = 0\n",
    "for x in LIKE:\n",
    "    if x == N:\n",
    "        ans += 1\n",
    "print(ans)"
   ]
  },
  {
   "cell_type": "code",
   "execution_count": null,
   "metadata": {},
   "outputs": [],
   "source": []
  }
 ],
 "metadata": {
  "kernelspec": {
   "display_name": "Python 3",
   "language": "python",
   "name": "python3"
  },
  "language_info": {
   "codemirror_mode": {
    "name": "ipython",
    "version": 3
   },
   "file_extension": ".py",
   "mimetype": "text/x-python",
   "name": "python",
   "nbconvert_exporter": "python",
   "pygments_lexer": "ipython3",
   "version": "3.7.1"
  }
 },
 "nbformat": 4,
 "nbformat_minor": 2
}
