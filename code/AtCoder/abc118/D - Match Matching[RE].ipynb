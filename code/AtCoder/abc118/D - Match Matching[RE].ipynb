{
 "cells": [
  {
   "cell_type": "code",
   "execution_count": 29,
   "metadata": {},
   "outputs": [
    {
     "name": "stdout",
     "output_type": "stream",
     "text": [
      "101 9\n",
      "9 8 7 6 5 4 3 2 1\n"
     ]
    }
   ],
   "source": [
    "N, M = map(int, input().split())\n",
    "A = list(map(int, input().split()))"
   ]
  },
  {
   "cell_type": "code",
   "execution_count": 30,
   "metadata": {},
   "outputs": [
    {
     "name": "stdout",
     "output_type": "stream",
     "text": [
      "71111111111111111111111111111111111111111111111111\n"
     ]
    }
   ],
   "source": [
    "def dfs(choices, s, cost, i):\n",
    "    if i == len(choices):\n",
    "        return -1\n",
    "    if cost == 0:\n",
    "        return int(s)\n",
    "    if cost < 0:\n",
    "        return -1\n",
    "    \n",
    "    if choices[i][0] == 1:\n",
    "        if cost % 2 == 0:\n",
    "            return int(s + (cost // 2) * '1')\n",
    "        else:\n",
    "            return -1\n",
    "    \n",
    "    \n",
    "    tmp1 = dfs(\n",
    "        choices,\n",
    "        s + str(choices[i][0]),\n",
    "        cost - choices[i][1],\n",
    "        i\n",
    "    )\n",
    "    if i+1 == len(choices):\n",
    "        tmp2 = -1\n",
    "    else:\n",
    "        tmp2 = dfs(\n",
    "            choices,\n",
    "            s,\n",
    "            cost,\n",
    "            i + 1\n",
    "        )\n",
    "    \n",
    "    ret = max(tmp1, tmp2)\n",
    "    return ret\n",
    "\n",
    "match = [-100,2,5,5,4,5,6,3,7,6]\n",
    "choices = []\n",
    "for i in A:\n",
    "    if (i == 6) and (9 in A):\n",
    "        continue\n",
    "    if (i == 3) and (5 in A):\n",
    "        continue\n",
    "    if (i == 2) and (3 in A or 5 in A):\n",
    "        continue\n",
    "    choices.append([i, match[i]])\n",
    "\n",
    "choices.sort(reverse=True)\n",
    "\n",
    "ans = dfs(choices, '', N, 0)\n",
    "print(ans)\n",
    "    \n",
    "    "
   ]
  },
  {
   "cell_type": "code",
   "execution_count": null,
   "metadata": {},
   "outputs": [],
   "source": [
    "71111111111111111111111111111111111111111111111111"
   ]
  }
 ],
 "metadata": {
  "kernelspec": {
   "display_name": "Python 3",
   "language": "python",
   "name": "python3"
  },
  "language_info": {
   "codemirror_mode": {
    "name": "ipython",
    "version": 3
   },
   "file_extension": ".py",
   "mimetype": "text/x-python",
   "name": "python",
   "nbconvert_exporter": "python",
   "pygments_lexer": "ipython3",
   "version": "3.7.1"
  }
 },
 "nbformat": 4,
 "nbformat_minor": 2
}
