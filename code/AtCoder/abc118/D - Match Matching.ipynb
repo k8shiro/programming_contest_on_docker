{
 "cells": [
  {
   "cell_type": "code",
   "execution_count": 5,
   "metadata": {},
   "outputs": [
    {
     "name": "stdout",
     "output_type": "stream",
     "text": [
      "101 9\n",
      "9 8 7 6 5 4 3 2 1\n"
     ]
    }
   ],
   "source": [
    "N, M = map(int, input().split())\n",
    "A = list(map(int, input().split()))"
   ]
  },
  {
   "cell_type": "code",
   "execution_count": 11,
   "metadata": {},
   "outputs": [
    {
     "name": "stdout",
     "output_type": "stream",
     "text": [
      "71111111111111111111111111111111111111111111111111\n"
     ]
    }
   ],
   "source": [
    "import sys\n",
    "INT_MIN = sys.maxsize * -1\n",
    "match = [-100,2,5,5,4,5,6,3,7,6]\n",
    "CHOICES = []\n",
    "for i in A:\n",
    "    if (i == 6) and (9 in A):\n",
    "        continue\n",
    "    if (i == 3) and (5 in A):\n",
    "        continue\n",
    "    if (i == 2) and (3 in A or 5 in A):\n",
    "        continue\n",
    "    CHOICES.append([i, match[i]])\n",
    "CHOICES.sort(reverse=True)\n",
    "\n",
    "ans = [0]\n",
    "#print(CHOICES)\n",
    "for i in range(1,N+1):\n",
    "    ans.append(INT_MIN)\n",
    "    for c in CHOICES:\n",
    "        #if  i - c[1] == 0:\n",
    "        #    ans[i] = max(ans[i], int(str(c[0])))\n",
    "        #elif i - c[1] >= 0 and ans[i - c[1]] != INT_MIN:\n",
    "        #    ans[i] = max(ans[i], int(str(c[0]) + str(ans[i - c[1]])))\n",
    "\n",
    "        if i - c[1] >= 0 and ans[i - c[1]] != INT_MIN:\n",
    "            ans[i] = max(ans[i], c[0] + ans[i - c[1]] * 10)\n",
    "\n",
    "print(ans[N])\n",
    "\n",
    "\n"
   ]
  },
  {
   "cell_type": "code",
   "execution_count": 3,
   "metadata": {},
   "outputs": [
    {
     "data": {
      "text/plain": [
       "71111111111111111111111111111111111111111111111111"
      ]
     },
     "execution_count": 3,
     "metadata": {},
     "output_type": "execute_result"
    }
   ],
   "source": [
    "71111111111111111111111111111111111111111111111111"
   ]
  }
 ],
 "metadata": {
  "kernelspec": {
   "display_name": "Python 3",
   "language": "python",
   "name": "python3"
  },
  "language_info": {
   "codemirror_mode": {
    "name": "ipython",
    "version": 3
   },
   "file_extension": ".py",
   "mimetype": "text/x-python",
   "name": "python",
   "nbconvert_exporter": "python",
   "pygments_lexer": "ipython3",
   "version": "3.7.1"
  }
 },
 "nbformat": 4,
 "nbformat_minor": 2
}
