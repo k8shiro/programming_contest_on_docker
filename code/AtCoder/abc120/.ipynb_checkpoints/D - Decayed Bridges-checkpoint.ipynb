{
 "cells": [
  {
   "cell_type": "code",
   "execution_count": 86,
   "metadata": {},
   "outputs": [
    {
     "name": "stdout",
     "output_type": "stream",
     "text": [
      "100000 1\n",
      "1 2\n"
     ]
    }
   ],
   "source": [
    "N, M = map(int, input().split())\n",
    "\n",
    "AB = []\n",
    "\n",
    "for _ in range(M):\n",
    "    A_i, B_i = map(int, input().split())\n",
    "    AB.append([A_i, B_i])"
   ]
  },
  {
   "cell_type": "code",
   "execution_count": 89,
   "metadata": {},
   "outputs": [],
   "source": [
    "class UnionFind():\n",
    "    def __init__(self, n):\n",
    "        self.parent = [-1 for _ in range(n)] # 親なら -1 * サイズ\n",
    "        \n",
    "    def root(self, x):\n",
    "        if self.parent[x] < 0:\n",
    "            return x\n",
    "        else:\n",
    "            self.parent[x] = self.root(self.parent[x])\n",
    "            return self.parent[x]\n",
    "    def size(self, x):\n",
    "        x = self.root(x)\n",
    "        return -1 * self.parent[x]\n",
    "    \n",
    "    def union(self, x, y):\n",
    "        x = self.root(x)\n",
    "        y = self.root(y)\n",
    "        if x == y:\n",
    "            return False\n",
    "        x_size = self.size(x)\n",
    "        y_size = self.size(y)\n",
    "        if x_size < y_size:\n",
    "            x, y = y, x\n",
    "        self.parent[x] += self.parent[y]\n",
    "        self.parent[y] = x\n",
    "        return True\n",
    "        \n",
    "                "
   ]
  },
  {
   "cell_type": "code",
   "execution_count": 90,
   "metadata": {},
   "outputs": [
    {
     "name": "stdout",
     "output_type": "stream",
     "text": [
      "4999950000\n"
     ]
    }
   ],
   "source": [
    "max_inconvenience = N * (N - 1) // 2 \n",
    "ans = [max_inconvenience]\n",
    "uf = UnionFind(N)\n",
    "for bridge in reversed(AB):\n",
    "    x = uf.root(bridge[0] - 1)\n",
    "    y = uf.root(bridge[1] - 1)\n",
    "\n",
    "    if x != y:\n",
    "        x_size = uf.size(x)\n",
    "        y_size = uf.size(y)\n",
    "        ans_tmp = max_inconvenience - x_size * y_size\n",
    "        max_inconvenience = ans_tmp\n",
    "        uf.union(x, y)\n",
    "    else:\n",
    "        ans_tmp = max_inconvenience\n",
    "    ans.append(ans_tmp)\n",
    "    \n",
    "for a in reversed(ans[:-1]):\n",
    "    print(a)"
   ]
  },
  {
   "cell_type": "code",
   "execution_count": null,
   "metadata": {},
   "outputs": [],
   "source": []
  },
  {
   "cell_type": "code",
   "execution_count": null,
   "metadata": {},
   "outputs": [],
   "source": []
  }
 ],
 "metadata": {
  "kernelspec": {
   "display_name": "Python 3",
   "language": "python",
   "name": "python3"
  },
  "language_info": {
   "codemirror_mode": {
    "name": "ipython",
    "version": 3
   },
   "file_extension": ".py",
   "mimetype": "text/x-python",
   "name": "python",
   "nbconvert_exporter": "python",
   "pygments_lexer": "ipython3",
   "version": "3.7.1"
  }
 },
 "nbformat": 4,
 "nbformat_minor": 2
}
