{
 "cells": [
  {
   "cell_type": "code",
   "execution_count": 4,
   "metadata": {},
   "outputs": [
    {
     "name": "stdout",
     "output_type": "stream",
     "text": [
      "2 1\n",
      "1 2\n"
     ]
    }
   ],
   "source": [
    "N, M = map(int, input().split())\n",
    "\n",
    "AB = []\n",
    "\n",
    "for _ in range(M):\n",
    "    A_i, B_i = map(int, input().split())\n",
    "    AB.append([A_i, B_i])"
   ]
  },
  {
   "cell_type": "code",
   "execution_count": 5,
   "metadata": {},
   "outputs": [
    {
     "name": "stdout",
     "output_type": "stream",
     "text": [
      "1\n"
     ]
    }
   ],
   "source": [
    "can_move = {}\n",
    "\n",
    "MAX_COMBINATION = N * (N-1) // (2 * 1)\n",
    "ans = [MAX_COMBINATION]\n",
    "#print(AB)\n",
    "for i in range(1, N+1):\n",
    "    can_move[i] = set([i])\n",
    "\n",
    "\n",
    "#print(can_move)\n",
    "#print(\"-----\")\n",
    "for bridge in reversed(AB):\n",
    "    merge_island = can_move[bridge[0]] | can_move[bridge[1]] \n",
    "    import copy\n",
    "    tmp = copy.deepcopy(can_move[bridge[0]])\n",
    "    for island in tmp:\n",
    "        can_move[island] = merge_island\n",
    "    tmp = copy.deepcopy(can_move[bridge[1]])\n",
    "    for island in tmp:\n",
    "        can_move[island] = merge_island\n",
    "    \n",
    "    \n",
    "    #print(bridge)\n",
    "    #print(can_move)\n",
    "    \n",
    "    can_move_count = 0\n",
    "    for i in range(1, N+1):\n",
    "        for j in range(i+1, N+1):\n",
    "            if j in can_move[i]:\n",
    "                can_move_count += 1\n",
    "    #print(can_move_count)\n",
    "    ans.append(MAX_COMBINATION - can_move_count)\n",
    "\n",
    "\n",
    "\n",
    "#print(\"--\")\n",
    "for a in reversed(ans[:-1]):\n",
    "    print(a)"
   ]
  },
  {
   "cell_type": "code",
   "execution_count": null,
   "metadata": {},
   "outputs": [],
   "source": []
  }
 ],
 "metadata": {
  "kernelspec": {
   "display_name": "Python 3",
   "language": "python",
   "name": "python3"
  },
  "language_info": {
   "codemirror_mode": {
    "name": "ipython",
    "version": 3
   },
   "file_extension": ".py",
   "mimetype": "text/x-python",
   "name": "python",
   "nbconvert_exporter": "python",
   "pygments_lexer": "ipython3",
   "version": "3.7.1"
  }
 },
 "nbformat": 4,
 "nbformat_minor": 2
}
