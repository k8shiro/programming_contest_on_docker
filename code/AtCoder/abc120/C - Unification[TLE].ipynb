{
 "cells": [
  {
   "cell_type": "code",
   "execution_count": 3,
   "metadata": {},
   "outputs": [
    {
     "name": "stdout",
     "output_type": "stream",
     "text": [
      "0\n"
     ]
    }
   ],
   "source": [
    "S = str(input())"
   ]
  },
  {
   "cell_type": "code",
   "execution_count": 4,
   "metadata": {},
   "outputs": [
    {
     "name": "stdout",
     "output_type": "stream",
     "text": [
      "0\n"
     ]
    }
   ],
   "source": [
    "def del_cube(s, i):\n",
    "    s = s[:i] + s[i+2:]\n",
    "    return s\n",
    "\n",
    "s = S\n",
    "while True:\n",
    "    flag = True\n",
    "    for i in range(len(s) - 1):\n",
    "        if s[i] == '0' and s[i+1] == '1' or s[i] == '1' and s[i+1] == '0':\n",
    "            flag = False\n",
    "            s = del_cube(s, i)\n",
    "            break\n",
    "            \n",
    "    if flag == True:\n",
    "        break\n",
    "        \n",
    "print(len(S) - len(s))\n"
   ]
  },
  {
   "cell_type": "code",
   "execution_count": null,
   "metadata": {},
   "outputs": [],
   "source": []
  }
 ],
 "metadata": {
  "kernelspec": {
   "display_name": "Python 3",
   "language": "python",
   "name": "python3"
  },
  "language_info": {
   "codemirror_mode": {
    "name": "ipython",
    "version": 3
   },
   "file_extension": ".py",
   "mimetype": "text/x-python",
   "name": "python",
   "nbconvert_exporter": "python",
   "pygments_lexer": "ipython3",
   "version": "3.7.1"
  }
 },
 "nbformat": 4,
 "nbformat_minor": 2
}
