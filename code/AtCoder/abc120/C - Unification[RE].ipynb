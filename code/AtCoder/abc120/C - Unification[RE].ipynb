{
 "cells": [
  {
   "cell_type": "code",
   "execution_count": 28,
   "metadata": {},
   "outputs": [
    {
     "name": "stdout",
     "output_type": "stream",
     "text": [
      "0\n"
     ]
    }
   ],
   "source": [
    "S = str(input())"
   ]
  },
  {
   "cell_type": "code",
   "execution_count": 29,
   "metadata": {},
   "outputs": [
    {
     "name": "stdout",
     "output_type": "stream",
     "text": [
      "0\n"
     ]
    }
   ],
   "source": [
    "def del_cube(s, i):\n",
    "    s = s[:i] + s[i+2:]\n",
    "    return s\n",
    "\n",
    "def dfs(s):\n",
    "    ans_list = []\n",
    "    flag = True\n",
    "    for i in range(len(s) - 1):\n",
    "        if s[i] == '0' and s[i+1] == '1' or s[i] == '1' and s[i+1] == '0':\n",
    "            flag = False\n",
    "            del_s = del_cube(s, i)\n",
    "            ans_list.append(dfs(del_s))\n",
    "            \n",
    "    if flag == True:\n",
    "        return(len(s))\n",
    "    else:\n",
    "        return(min(ans_list))\n",
    "    \n",
    "print(len(S) - dfs(S))\n",
    "\n"
   ]
  },
  {
   "cell_type": "code",
   "execution_count": null,
   "metadata": {},
   "outputs": [],
   "source": []
  },
  {
   "cell_type": "code",
   "execution_count": null,
   "metadata": {},
   "outputs": [],
   "source": []
  }
 ],
 "metadata": {
  "kernelspec": {
   "display_name": "Python 3",
   "language": "python",
   "name": "python3"
  },
  "language_info": {
   "codemirror_mode": {
    "name": "ipython",
    "version": 3
   },
   "file_extension": ".py",
   "mimetype": "text/x-python",
   "name": "python",
   "nbconvert_exporter": "python",
   "pygments_lexer": "ipython3",
   "version": "3.7.1"
  }
 },
 "nbformat": 4,
 "nbformat_minor": 2
}
