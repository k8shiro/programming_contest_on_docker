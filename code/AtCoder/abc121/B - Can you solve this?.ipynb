{
 "cells": [
  {
   "cell_type": "code",
   "execution_count": 27,
   "metadata": {},
   "outputs": [
    {
     "name": "stdout",
     "output_type": "stream",
     "text": [
      "3 3 0\n",
      "100 -100 0\n",
      "0 100 100\n",
      "100 100 100\n",
      "-100 100 100\n"
     ]
    }
   ],
   "source": [
    "N, M, C = map(int, input().split())\n",
    "\n",
    "B = list(map(int, input().split()))\n",
    "A = []\n",
    "for _ in range(N):\n",
    "    A_i = list(map(int, input().split()))\n",
    "    A.append(A_i)"
   ]
  },
  {
   "cell_type": "code",
   "execution_count": 28,
   "metadata": {},
   "outputs": [
    {
     "name": "stdout",
     "output_type": "stream",
     "text": [
      "0\n"
     ]
    }
   ],
   "source": [
    "ans = 0\n",
    "for A_i in A:\n",
    "    cal = lambda x, y : x * y\n",
    "    mul_ab = map(cal, A_i, B)\n",
    "    sum_ab = sum(mul_ab)\n",
    "    sum_c = sum_ab + C\n",
    "    if sum_c > 0:\n",
    "        ans += 1\n",
    "print(ans)"
   ]
  },
  {
   "cell_type": "code",
   "execution_count": null,
   "metadata": {},
   "outputs": [],
   "source": []
  },
  {
   "cell_type": "code",
   "execution_count": null,
   "metadata": {},
   "outputs": [],
   "source": []
  }
 ],
 "metadata": {
  "kernelspec": {
   "display_name": "Python 3",
   "language": "python",
   "name": "python3"
  },
  "language_info": {
   "codemirror_mode": {
    "name": "ipython",
    "version": 3
   },
   "file_extension": ".py",
   "mimetype": "text/x-python",
   "name": "python",
   "nbconvert_exporter": "python",
   "pygments_lexer": "ipython3",
   "version": "3.7.1"
  }
 },
 "nbformat": 4,
 "nbformat_minor": 2
}
