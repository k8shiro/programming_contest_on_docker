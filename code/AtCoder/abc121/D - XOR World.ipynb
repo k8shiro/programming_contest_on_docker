{
 "cells": [
  {
   "cell_type": "code",
   "execution_count": 42,
   "metadata": {},
   "outputs": [
    {
     "name": "stdout",
     "output_type": "stream",
     "text": [
      "123456789012 123456789012\n"
     ]
    }
   ],
   "source": [
    "A, B = map(int, input().split())"
   ]
  },
  {
   "cell_type": "code",
   "execution_count": 44,
   "metadata": {},
   "outputs": [
    {
     "name": "stdout",
     "output_type": "stream",
     "text": [
      "123456789012\n"
     ]
    }
   ],
   "source": [
    "def cal_xor(X):\n",
    "    X = X+1\n",
    "    xor_sum = 0\n",
    "    digit = 1\n",
    "    while digit < X:\n",
    "        digit *= 2\n",
    "        bit_count = (X // digit) * (digit // 2)\n",
    "        bit_count += max(0, (X % digit) - (digit // 2))\n",
    "        \n",
    "        if bit_count % 2 == 1:\n",
    "            xor_sum += digit // 2\n",
    "    \n",
    "    return xor_sum\n",
    "        \n",
    "\n",
    "ans = cal_xor(A-1) ^ cal_xor(B)\n",
    "print(ans)\n",
    "   \n",
    "\n",
    "\n",
    "\n"
   ]
  },
  {
   "cell_type": "code",
   "execution_count": null,
   "metadata": {},
   "outputs": [],
   "source": []
  }
 ],
 "metadata": {
  "kernelspec": {
   "display_name": "Python 3",
   "language": "python",
   "name": "python3"
  },
  "language_info": {
   "codemirror_mode": {
    "name": "ipython",
    "version": 3
   },
   "file_extension": ".py",
   "mimetype": "text/x-python",
   "name": "python",
   "nbconvert_exporter": "python",
   "pygments_lexer": "ipython3",
   "version": "3.7.1"
  }
 },
 "nbformat": 4,
 "nbformat_minor": 2
}
