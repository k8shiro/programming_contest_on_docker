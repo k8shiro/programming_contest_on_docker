{
 "cells": [
  {
   "cell_type": "code",
   "execution_count": 63,
   "metadata": {},
   "outputs": [
    {
     "name": "stdout",
     "output_type": "stream",
     "text": [
      "2 999999999999\n"
     ]
    }
   ],
   "source": [
    "A, B = map(int, input().split())"
   ]
  },
  {
   "cell_type": "code",
   "execution_count": null,
   "metadata": {},
   "outputs": [],
   "source": [
    "#AB = list(range(A, B+1))\n",
    "AB = [x for x in range(A, B+1)]\n",
    "\n",
    "ans = []\n",
    "while AB[-1] != 0:\n",
    "    div = lambda x: x // 2\n",
    "    rem = lambda x: x % 2\n",
    "    \n",
    "    AB_bit = list(map(rem, AB))\n",
    "    AB = list(map(div, AB))\n",
    "    ans.append(str(sum(AB_bit) % 2))\n",
    "\n",
    "ans.append('0')\n",
    "ans.reverse()\n",
    "ans_10 = int(''.join(ans), 2)\n",
    "print(ans_10)\n"
   ]
  },
  {
   "cell_type": "code",
   "execution_count": null,
   "metadata": {},
   "outputs": [],
   "source": []
  },
  {
   "cell_type": "code",
   "execution_count": null,
   "metadata": {},
   "outputs": [],
   "source": []
  }
 ],
 "metadata": {
  "kernelspec": {
   "display_name": "Python 3",
   "language": "python",
   "name": "python3"
  },
  "language_info": {
   "codemirror_mode": {
    "name": "ipython",
    "version": 3
   },
   "file_extension": ".py",
   "mimetype": "text/x-python",
   "name": "python",
   "nbconvert_exporter": "python",
   "pygments_lexer": "ipython3",
   "version": "3.7.1"
  }
 },
 "nbformat": 4,
 "nbformat_minor": 2
}
