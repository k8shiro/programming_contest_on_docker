{
 "cells": [
  {
   "cell_type": "code",
   "execution_count": 14,
   "metadata": {},
   "outputs": [
    {
     "name": "stdout",
     "output_type": "stream",
     "text": [
      "100100\n"
     ]
    }
   ],
   "source": [
    "S = str(input())"
   ]
  },
  {
   "cell_type": "code",
   "execution_count": 15,
   "metadata": {},
   "outputs": [
    {
     "name": "stdout",
     "output_type": "stream",
     "text": [
      "3\n"
     ]
    }
   ],
   "source": [
    "ans_one_start = ''\n",
    "for i in range(len(S)):\n",
    "    if i % 2 == 0:\n",
    "        ans_one_start += '0'\n",
    "    else:\n",
    "        ans_one_start += '1'\n",
    "        \n",
    "ans_zero_start = ''\n",
    "for i in range(len(S)):\n",
    "    if i % 2 == 0:\n",
    "        ans_zero_start += '1'\n",
    "    else:\n",
    "        ans_zero_start += '0'\n",
    "\n",
    "diff_one = 0\n",
    "diff_zero = 0\n",
    "\n",
    "for i in range(len(S)):\n",
    "    s_i = S[i]\n",
    "    diff_i = ans_one_start[i]\n",
    "    if s_i != diff_i:\n",
    "        diff_one += 1\n",
    "        \n",
    "for i in range(len(S)):\n",
    "    s_i = S[i]\n",
    "    diff_i = ans_zero_start[i]\n",
    "    if s_i != diff_i:\n",
    "        diff_zero += 1\n",
    "    \n",
    "print(min(diff_one, diff_zero))\n"
   ]
  },
  {
   "cell_type": "code",
   "execution_count": null,
   "metadata": {},
   "outputs": [],
   "source": []
  }
 ],
 "metadata": {
  "kernelspec": {
   "display_name": "Python 3",
   "language": "python",
   "name": "python3"
  },
  "language_info": {
   "codemirror_mode": {
    "name": "ipython",
    "version": 3
   },
   "file_extension": ".py",
   "mimetype": "text/x-python",
   "name": "python",
   "nbconvert_exporter": "python",
   "pygments_lexer": "ipython3",
   "version": "3.7.1"
  }
 },
 "nbformat": 4,
 "nbformat_minor": 2
}
