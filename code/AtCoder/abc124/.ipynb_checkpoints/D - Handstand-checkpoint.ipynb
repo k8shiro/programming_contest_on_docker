{
 "cells": [
  {
   "cell_type": "code",
   "execution_count": 1,
   "metadata": {},
   "outputs": [
    {
     "name": "stdout",
     "output_type": "stream",
     "text": [
      "1 1\n",
      "1\n"
     ]
    }
   ],
   "source": [
    "N, K = map(int, input().split())\n",
    "S = str(input())"
   ]
  },
  {
   "cell_type": "code",
   "execution_count": 2,
   "metadata": {},
   "outputs": [
    {
     "name": "stdout",
     "output_type": "stream",
     "text": [
      "1\n"
     ]
    }
   ],
   "source": [
    "import re\n",
    "\n",
    "def nchars(s, n):\n",
    "    \"\"\"文字列 s に、同じ文字が n 個以上連続している部分文字列を見つける\n",
    "    \"\"\"\n",
    "    assert n > 0\n",
    "    reg = re.compile(\"(.)\\\\1{%d,}\" % (n - 1))  # カンマを取ると n 個ちょうどになる\n",
    "    while True:\n",
    "        m = reg.search(s)\n",
    "        if not m:\n",
    "            break\n",
    "        yield m.group(0)\n",
    "        s = s[m.end():]\n",
    "\n",
    "s_list = list(nchars(S, 1))\n",
    "s_list_num = [len(s) for s in s_list]\n",
    "if '1' in s_list[0]:\n",
    "    s_list_num.insert(0,0)\n",
    "else:\n",
    "    s_list_num.insert(0,0)\n",
    "    s_list_num.insert(0,0)\n",
    "\n",
    "\n",
    "s_list_sum = []\n",
    "tmp_sum = 0\n",
    "for x in s_list_num:\n",
    "    tmp_sum += x\n",
    "    s_list_sum.append(tmp_sum)\n",
    "\n",
    "#print(s_list)\n",
    "#print(s_list_num)\n",
    "#print(s_list_sum)\n",
    "\n",
    "ans = 0\n",
    "for i in range(1, len(s_list_sum),2):\n",
    "\n",
    "    l_sum = s_list_sum[i-1]\n",
    "    r_sum = s_list_sum[min(len(s_list_sum)-1, i+K*2)]\n",
    "    #print(l_sum, r_sum)\n",
    "    ans = max(ans, r_sum - l_sum)\n",
    "\n",
    "print(ans)\n",
    "\n",
    "        \n",
    "        "
   ]
  },
  {
   "cell_type": "code",
   "execution_count": null,
   "metadata": {},
   "outputs": [],
   "source": []
  },
  {
   "cell_type": "code",
   "execution_count": null,
   "metadata": {},
   "outputs": [],
   "source": []
  }
 ],
 "metadata": {
  "kernelspec": {
   "display_name": "Python 3",
   "language": "python",
   "name": "python3"
  },
  "language_info": {
   "codemirror_mode": {
    "name": "ipython",
    "version": 3
   },
   "file_extension": ".py",
   "mimetype": "text/x-python",
   "name": "python",
   "nbconvert_exporter": "python",
   "pygments_lexer": "ipython3",
   "version": "3.7.1"
  }
 },
 "nbformat": 4,
 "nbformat_minor": 2
}
