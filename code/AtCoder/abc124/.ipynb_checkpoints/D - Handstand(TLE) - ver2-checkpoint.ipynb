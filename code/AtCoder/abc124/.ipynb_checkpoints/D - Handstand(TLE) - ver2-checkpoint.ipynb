{
 "cells": [
  {
   "cell_type": "code",
   "execution_count": 22,
   "metadata": {},
   "outputs": [
    {
     "name": "stdout",
     "output_type": "stream",
     "text": [
      "5 1\n",
      "00010\n"
     ]
    }
   ],
   "source": [
    "N, K = map(int, input().split())\n",
    "S = str(input())"
   ]
  },
  {
   "cell_type": "code",
   "execution_count": 23,
   "metadata": {},
   "outputs": [
    {
     "name": "stdout",
     "output_type": "stream",
     "text": [
      "4\n"
     ]
    }
   ],
   "source": [
    "def inversion_command(l, r, s):\n",
    "    s_l = s[:l]\n",
    "    s_c = s[l:r]\n",
    "    s_r = s[r:]\n",
    "    \n",
    "    s_c = s_c.replace('0', 'X')\n",
    "    s_c = s_c.replace('1', '0')\n",
    "    s_c = s_c.replace('X', '1')\n",
    "    return s_l + s_c + s_r\n",
    "\n",
    "import re\n",
    "\n",
    "def nchars(s, n):\n",
    "    \"\"\"文字列 s に、同じ文字が n 個以上連続している部分文字列を見つける\n",
    "    \"\"\"\n",
    "    assert n > 0\n",
    "    reg = re.compile(\"(.)\\\\1{%d,}\" % (n - 1))  # カンマを取ると n 個ちょうどになる\n",
    "    while True:\n",
    "        m = reg.search(s)\n",
    "        if not m:\n",
    "            break\n",
    "        yield m.group(0)\n",
    "        s = s[m.end():]\n",
    "\n",
    "import queue\n",
    "q = queue.Queue()\n",
    "s = S\n",
    "q.put(list(nchars(s, 1)))\n",
    "\n",
    "for _ in range(K):\n",
    "    tmp_q = queue.Queue()\n",
    "    while not q.empty():\n",
    "        s = q.get()\n",
    "        #print(s)\n",
    "        for i in range(len(s)):\n",
    "            if '0' in s[i]:\n",
    "                tmp_q.put(s[:i] + [s[i].replace('0', '1')] + s[i+1:])\n",
    "    \n",
    "    q = tmp_q\n",
    "    \n",
    "#print(q)\n",
    "\n",
    "ans = 1\n",
    "while not q.empty():\n",
    "    s = q.get()\n",
    "    s = ''.join(s)\n",
    "    #print(s)\n",
    "                \n",
    "    s_split = s.split('0')\n",
    "    s_len = [len(s) for s in s_split]\n",
    "    s_max = max(s_len)\n",
    "    ans = max(ans, s_max)\n",
    "print(ans)\n",
    "        \n",
    "        \n",
    "    \n",
    "\n",
    "\n",
    "\n"
   ]
  },
  {
   "cell_type": "code",
   "execution_count": null,
   "metadata": {},
   "outputs": [],
   "source": []
  },
  {
   "cell_type": "code",
   "execution_count": null,
   "metadata": {},
   "outputs": [],
   "source": []
  }
 ],
 "metadata": {
  "kernelspec": {
   "display_name": "Python 3",
   "language": "python",
   "name": "python3"
  },
  "language_info": {
   "codemirror_mode": {
    "name": "ipython",
    "version": 3
   },
   "file_extension": ".py",
   "mimetype": "text/x-python",
   "name": "python",
   "nbconvert_exporter": "python",
   "pygments_lexer": "ipython3",
   "version": "3.7.1"
  }
 },
 "nbformat": 4,
 "nbformat_minor": 2
}
