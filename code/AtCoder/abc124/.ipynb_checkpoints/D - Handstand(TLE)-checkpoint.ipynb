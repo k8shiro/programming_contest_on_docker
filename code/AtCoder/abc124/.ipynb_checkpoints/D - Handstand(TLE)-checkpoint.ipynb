{
 "cells": [
  {
   "cell_type": "code",
   "execution_count": 3,
   "metadata": {},
   "outputs": [
    {
     "name": "stdout",
     "output_type": "stream",
     "text": [
      "1 1\n",
      "1\n"
     ]
    }
   ],
   "source": [
    "N, K = map(int, input().split())\n",
    "S = str(input())"
   ]
  },
  {
   "cell_type": "code",
   "execution_count": 4,
   "metadata": {},
   "outputs": [
    {
     "name": "stdout",
     "output_type": "stream",
     "text": [
      "1\n"
     ]
    }
   ],
   "source": [
    "def inversion_command(l, r, s):\n",
    "    s_l = s[:l]\n",
    "    s_c = s[l:r]\n",
    "    s_r = s[r:]\n",
    "    \n",
    "    s_c = s_c.replace('0', 'X')\n",
    "    s_c = s_c.replace('1', '0')\n",
    "    s_c = s_c.replace('X', '1')\n",
    "    return s_l + s_c + s_r\n",
    "    \n",
    "#print(inversion_command(0, 3, S))\n",
    "\n",
    "s_list = set([S])\n",
    "\n",
    "for _ in range(K):\n",
    "    tmp_s_list = set()\n",
    "    for l in range(N + 1):\n",
    "        for r in range(l, N + 1):\n",
    "            for s in s_list:\n",
    "                tmp_s_list.add(inversion_command(l, r, s))\n",
    "    s_list = tmp_s_list\n",
    "\n",
    "ans = 0\n",
    "for s in s_list:\n",
    "    s_split = s.split('0')\n",
    "    s_len = [len(s) for s in s_split]\n",
    "    s_max = max(s_len)\n",
    "    #print(s_len)\n",
    "    #print(s_max)\n",
    "    ans = max(ans, s_max)\n",
    "print(ans)\n",
    "    \n",
    "\n",
    "\n",
    "\n"
   ]
  },
  {
   "cell_type": "code",
   "execution_count": null,
   "metadata": {},
   "outputs": [],
   "source": []
  },
  {
   "cell_type": "code",
   "execution_count": null,
   "metadata": {},
   "outputs": [],
   "source": []
  }
 ],
 "metadata": {
  "kernelspec": {
   "display_name": "Python 3",
   "language": "python",
   "name": "python3"
  },
  "language_info": {
   "codemirror_mode": {
    "name": "ipython",
    "version": 3
   },
   "file_extension": ".py",
   "mimetype": "text/x-python",
   "name": "python",
   "nbconvert_exporter": "python",
   "pygments_lexer": "ipython3",
   "version": "3.7.1"
  }
 },
 "nbformat": 4,
 "nbformat_minor": 2
}
