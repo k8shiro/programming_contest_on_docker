{
 "cells": [
  {
   "cell_type": "markdown",
   "metadata": {},
   "source": [
    "# A - はじめてのあっとこーだー（Welcome to AtCoder）\n",
    "\n",
    "https://atcoder.jp/contests/practice/tasks/practice_1"
   ]
  },
  {
   "cell_type": "code",
   "execution_count": 13,
   "metadata": {},
   "outputs": [
    {
     "name": "stdout",
     "output_type": "stream",
     "text": [
      "1\n",
      "2 3\n",
      "test\n"
     ]
    }
   ],
   "source": [
    "# INPUT\n",
    "a = int(input())\n",
    "b, c = map(int, input().split())\n",
    "s = str(input())"
   ]
  },
  {
   "cell_type": "code",
   "execution_count": 19,
   "metadata": {},
   "outputs": [],
   "source": [
    "# FUNC\n",
    "def main_func(a, b, c, s):\n",
    "    x = a + b + c\n",
    "    print(\"{} {}\".format(x, s))\n"
   ]
  },
  {
   "cell_type": "code",
   "execution_count": 27,
   "metadata": {},
   "outputs": [
    {
     "name": "stdout",
     "output_type": "stream",
     "text": [
      "6 test\n",
      "456 myonmyon\n"
     ]
    }
   ],
   "source": [
    "# TEST 1\n",
    "\n",
    "input_list = \"\"\"\n",
    "1\n",
    "2 3\n",
    "test\n",
    "\"\"\"\n",
    "input_list = input_list.splitlines()\n",
    "del input_list[0]\n",
    "\n",
    "a = int(input_list[0])\n",
    "b, c = map(int, input_list[1].split())\n",
    "s = str(input_list[2])\n",
    "\n",
    "main_func(a,b,c,s)\n",
    "\n",
    "# TEST 2\n",
    "\n",
    "input_list = \"\"\"\n",
    "72\n",
    "128 256\n",
    "myonmyon\n",
    "\"\"\"\n",
    "input_list = input_list.splitlines()\n",
    "del input_list[0]\n",
    "\n",
    "a = int(input_list[0])\n",
    "b, c = map(int, input_list[1].split())\n",
    "s = str(input_list[2])\n",
    "\n",
    "main_func(a,b,c,s)"
   ]
  },
  {
   "cell_type": "code",
   "execution_count": 15,
   "metadata": {},
   "outputs": [
    {
     "name": "stdout",
     "output_type": "stream",
     "text": [
      "6 test\n"
     ]
    }
   ],
   "source": [
    "# EXEC\n",
    "\n",
    "main_func(a,b,c,s)"
   ]
  }
 ],
 "metadata": {
  "kernelspec": {
   "display_name": "Python 3",
   "language": "python",
   "name": "python3"
  },
  "language_info": {
   "codemirror_mode": {
    "name": "ipython",
    "version": 3
   },
   "file_extension": ".py",
   "mimetype": "text/x-python",
   "name": "python",
   "nbconvert_exporter": "python",
   "pygments_lexer": "ipython3",
   "version": "3.7.1"
  }
 },
 "nbformat": 4,
 "nbformat_minor": 2
}
