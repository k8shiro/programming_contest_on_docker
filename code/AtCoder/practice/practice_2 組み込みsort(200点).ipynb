{
 "cells": [
  {
   "cell_type": "markdown",
   "metadata": {},
   "source": [
    "# B - インタラクティブ練習 (Interactive Sorting)\n",
    "https://atcoder.jp/contests/practice/tasks/practice_2"
   ]
  },
  {
   "cell_type": "code",
   "execution_count": 12,
   "metadata": {},
   "outputs": [
    {
     "name": "stdout",
     "output_type": "stream",
     "text": [
      "3 10\n"
     ]
    }
   ],
   "source": [
    "N, Q = map(int, input().split())"
   ]
  },
  {
   "cell_type": "code",
   "execution_count": 13,
   "metadata": {},
   "outputs": [
    {
     "name": "stdout",
     "output_type": "stream",
     "text": [
      "? B A\n",
      "<\n",
      "? C B\n",
      ">\n",
      "? C A\n",
      ">\n",
      "! BAC\n"
     ]
    }
   ],
   "source": [
    "from functools import cmp_to_key\n",
    "\n",
    "def comp_by_input(a, b):\n",
    "    print(\"? {} {}\".format(a, b))\n",
    "    ans = input()\n",
    "    if ans == '>':\n",
    "        return 1\n",
    "    else:\n",
    "        return -1\n",
    "\n",
    "def sort_by_sort(x):\n",
    "    return sorted(x, key=cmp_to_key(comp_by_input))\n",
    "\n",
    "\n",
    "def main_func(N, Q):\n",
    "    x_values = [\n",
    "        \"A\", \"B\", \"C\", \"D\", \"E\", \"F\", \"G\",\n",
    "        \"H\", \"I\", \"J\", \"K\", \"L\", \"M\", \"N\",\n",
    "        \"O\", \"P\", \"Q\", \"R\", \"S\", \"T\", \"U\",\n",
    "        \"V\", \"W\", \"X\", \"Y\", \"Z\"]\n",
    "    \n",
    "    ans = sort_by_sort(x_values[:N])\n",
    "    ans = ''.join(ans)\n",
    "    print('! '+ans)\n",
    "    \n",
    "\n",
    "main_func(N, Q)"
   ]
  },
  {
   "cell_type": "code",
   "execution_count": null,
   "metadata": {},
   "outputs": [],
   "source": []
  },
  {
   "cell_type": "code",
   "execution_count": null,
   "metadata": {},
   "outputs": [],
   "source": []
  }
 ],
 "metadata": {
  "kernelspec": {
   "display_name": "Python 3",
   "language": "python",
   "name": "python3"
  },
  "language_info": {
   "codemirror_mode": {
    "name": "ipython",
    "version": 3
   },
   "file_extension": ".py",
   "mimetype": "text/x-python",
   "name": "python",
   "nbconvert_exporter": "python",
   "pygments_lexer": "ipython3",
   "version": "3.7.1"
  }
 },
 "nbformat": 4,
 "nbformat_minor": 2
}
