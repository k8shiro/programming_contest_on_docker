{
 "cells": [
  {
   "cell_type": "markdown",
   "metadata": {},
   "source": [
    "# B - インタラクティブ練習 (Interactive Sorting)\n",
    "https://atcoder.jp/contests/practice/tasks/practice_2"
   ]
  },
  {
   "cell_type": "code",
   "execution_count": 1,
   "metadata": {},
   "outputs": [
    {
     "name": "stdout",
     "output_type": "stream",
     "text": [
      "3   10\n"
     ]
    }
   ],
   "source": [
    "N, Q = map(int, input().split())"
   ]
  },
  {
   "cell_type": "code",
   "execution_count": 2,
   "metadata": {},
   "outputs": [
    {
     "name": "stdout",
     "output_type": "stream",
     "text": [
      "? B A\n",
      "<\n",
      "? C B\n",
      ">\n",
      "? C A\n",
      ">\n",
      "! BAC\n"
     ]
    }
   ],
   "source": [
    "import heapq\n",
    "\n",
    "def comp_by_input(a, b):\n",
    "    print(\"? {} {}\".format(a, b))\n",
    "    ans = input()\n",
    "    if ans == '<':\n",
    "        return True\n",
    "    else:\n",
    "        return False\n",
    "\n",
    "#from functools import total_ordering\n",
    "#@total_ordering\n",
    "class MyCompareObj(object):\n",
    "    def __init__(self, val):\n",
    "        self.val = val\n",
    "    def __repr__(self):\n",
    "        return self.val \n",
    "    def __lt__(self, other):\n",
    "        return comp_by_input(self.val, other.val)\n",
    "\n",
    "def heapsort(iterable):\n",
    "    h = []\n",
    "    for value in iterable:\n",
    "        heapq.heappush(h, MyCompareObj(value))\n",
    "\n",
    "    return [heapq.heappop(h) for i in range(len(h))]\n",
    "\n",
    "\n",
    "def main_func(N, Q):\n",
    "    x_values = [\n",
    "        \"A\", \"B\", \"C\", \"D\", \"E\", \"F\", \"G\",\n",
    "        \"H\", \"I\", \"J\", \"K\", \"L\", \"M\", \"N\",\n",
    "        \"O\", \"P\", \"Q\", \"R\", \"S\", \"T\", \"U\",\n",
    "        \"V\", \"W\", \"X\", \"Y\", \"Z\"]\n",
    "    \n",
    "    ans = heapsort(x_values[:N])\n",
    "    ans = [a.val for a in ans]\n",
    "    ans = ''.join(ans)\n",
    "    print('! '+ans)\n",
    "    \n",
    "\n",
    "main_func(N, Q)"
   ]
  },
  {
   "cell_type": "code",
   "execution_count": null,
   "metadata": {},
   "outputs": [],
   "source": []
  },
  {
   "cell_type": "code",
   "execution_count": null,
   "metadata": {},
   "outputs": [],
   "source": []
  }
 ],
 "metadata": {
  "kernelspec": {
   "display_name": "Python 3",
   "language": "python",
   "name": "python3"
  },
  "language_info": {
   "codemirror_mode": {
    "name": "ipython",
    "version": 3
   },
   "file_extension": ".py",
   "mimetype": "text/x-python",
   "name": "python",
   "nbconvert_exporter": "python",
   "pygments_lexer": "ipython3",
   "version": "3.7.1"
  }
 },
 "nbformat": 4,
 "nbformat_minor": 2
}
